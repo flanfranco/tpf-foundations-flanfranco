{
 "cells": [
  {
   "cell_type": "markdown",
   "id": "2811bf65",
   "metadata": {
    "raw_mimetype": "text/markdown"
   },
   "source": [
    "# ITBA - Cloud Data Engineering\n",
    "## Trabajo Práctico Final Foundations \n",
    "### 👨🏽‍💻 Flavio Lanfranco - Versión 20210808\n",
    "\n",
    "El [dataset seleccionado](https://www.kaggle.com/olistbr/brazilian-ecommerce) presenta datos públicos de comercio electrónico pertenecientes al sitio brasileño [Olist Store](https://olist.com).\n",
    "\n",
    "#### 📌 Acerca del dataset \n",
    "\n",
    "El dataset contiene información de aproximadamente 100k pedidos provenientes de los distintos canales de venta que gestiona la plataforma Olist Store. Los mismos se corresponden al periodo que va desde el año 2016 al 2018. El dataset permite ver un pedido a partir de múltiples dimensiones: desde su estado, precio, pago y desempeño del flete, hasta la ubicación del cliente, los atributos del producto y finalmente las reseñas escritas por los clientes.\n",
    "\n",
    "#### 📌 Contexto \n",
    "\n",
    "Olist Store es una plataforma que conecta pequeñas empresas de todo Brasil con diferentes canales de ventas. Esos comerciantes pueden vender sus productos a través de Olist Store y enviarlos directamente a los clientes mediante los socios logísticos de Olist. Después de que un cliente compra el producto en Olist Store, un vendedor recibe una notificación para cumplir con ese pedido. Una vez que el cliente recibe el producto, o vence la fecha estimada de entrega, el cliente recibe una encuesta de satisfacción por correo electrónico donde puede dar una nota por la experiencia de compra y anotar algunos comentarios. \n",
    "\n",
    "#### 🔍 Análisis \n",
    "\n",
    "Bajo la premisa de que el comercio electrónico está creciendo 📈 continuamente de manera global 🌎, resulta interesante poder evaluar si en 🇧🇷 también se experimenta dicha tendencia, al menos para el periodo compartido en el dataset. \n",
    "\n",
    "A continuación se listan algunas preguntas a responder ejecutando consultas sobre dicho dataset:\n",
    "\n",
    "##### En referencia a la cantidad de pedidos:\n",
    "1. ¿Es posible visualizar 📈 dicha tendencia? \n",
    "2. ¿Cómo se distribuyen 📍 los compradores en Brasil?\n",
    "\n",
    "##### Respecto a las ventas:\n",
    "\n",
    "3. Analizando el monto de venta 💵  ¿cómo se distribuyen las mismas a través del tiempo?\n",
    "4. ¿En qué meses calendario 🗓 el monto de venta es mayor?\n",
    "5. ¿Y en qué días 📆 de la semana?\n",
    "6. ¿Cuáles son las 20 categorías de productos 🛒 con mayor monto de venta generado 💰?\n",
    "\n",
    "##### Finalmente, en referencia a los pagos:\n",
    "\n",
    "7. ¿Cuáles son los medios de pagos 💳 que prefieren los compradores brasileños?\n",
    "\n",
    "\n",
    "#### 📢 Antes de empezar:\n",
    "\n",
    "A continuación se muestra el código desarrollado en python 🐍 correspondiente a la ejecución de consultas SQL sobre la base de datos de Olist, junto con la explotación analítica del resultado de dichas consultas que buscan responder los requerimientos planeteados. \n",
    "\n",
    "La idea 💡 es que de manera interactiva puedan ir ejecutando (⌨️ ctrl+enter) cada una de las celdas de código presentadas, para luego poder visualizar el análisis 📊 resultante con el objeto de contrastar 🤔 con las respuestas comentadas."
   ]
  },
  {
   "cell_type": "code",
   "execution_count": null,
   "id": "056cfeb4",
   "metadata": {
    "scrolled": false
   },
   "outputs": [],
   "source": [
    "# Data manipulation & processing libraries imports\n",
    "from sqlalchemy import create_engine\n",
    "from sqlalchemy.pool import NullPool\n",
    "import pandas as pd\n",
    "\n",
    "# Visualization libraries imports\n",
    "import plotly.graph_objects as go\n",
    "import plotly.express as px"
   ]
  },
  {
   "cell_type": "code",
   "execution_count": null,
   "id": "257e2e66",
   "metadata": {
    "scrolled": true
   },
   "outputs": [],
   "source": [
    "# Open connection to Olist database\n",
    "engine = create_engine('postgresql://username:secret@db:5432/database', connect_args={'options': '-csearch_path={}'.format('olistdb')}, poolclass=NullPool)\n",
    "conn = engine.connect()"
   ]
  },
  {
   "cell_type": "markdown",
   "id": "2f3fb9a2",
   "metadata": {},
   "source": [
    "##### En referencia a la cantidad de pedidos:\n",
    "1. ¿Es posible visualizar 📈 dicha tendencia? \n"
   ]
  },
  {
   "cell_type": "code",
   "execution_count": null,
   "id": "c461e5dd",
   "metadata": {},
   "outputs": [],
   "source": [
    "q1 = (\n",
    "'''\n",
    "    SELECT  \n",
    "        to_char(order_approved_at,'Mon YYYY') as date,\n",
    "        to_char(order_approved_at,'YYYYMM')::integer as date_ord,\n",
    "        COUNT(order_id) AS order_qty \n",
    "    FROM olistdb.orders\n",
    "    GROUP BY \n",
    "         date,\n",
    "         date_ord\n",
    "    ORDER BY \n",
    "         date_ord asc\n",
    "    ;       \n",
    "        '''\n",
    "      )\n",
    "r1 = pd.read_sql(q1, con=conn)\n",
    "fig1 = go.Figure(\n",
    "    data=[go.Bar(x=r1['date'], y=r1['order_qty'])],\n",
    "    layout_title_text=\"Evolución de la cantidad de órdenes por periodo.\"\n",
    ")\n",
    "fig1.show()"
   ]
  },
  {
   "cell_type": "markdown",
   "id": "b4b2483e",
   "metadata": {},
   "source": [
    "##### Respuesta:\n",
    "\n",
    "Es posible visualizar una tendencia creciente en referencia a la cantidad de órdenes de compra realizadas en Olist Store. Con lo cual podríamos pensar que también en Brasil se experimenta un crecimiento del comercio electrónico (considerando a Olist Store como representativo del mercado electrónico brasileño para el periodo compartido en el dataset). "
   ]
  },
  {
   "cell_type": "markdown",
   "id": "2689d1eb",
   "metadata": {},
   "source": [
    "2. ¿Cómo se distribuyen 📍 los compradores en Brasil?"
   ]
  },
  {
   "cell_type": "code",
   "execution_count": null,
   "id": "22980e76",
   "metadata": {
    "scrolled": false
   },
   "outputs": [],
   "source": [
    "q2 = '''\n",
    "        SELECT \n",
    "            customer_state as state,\n",
    "            COUNT(customer_unique_id) as number_customers\n",
    "        FROM \n",
    "            olistdb.order_customer\n",
    "        GROUP BY \n",
    "            state\n",
    "        ORDER BY \n",
    "            number_customers desc\n",
    "        ;\n",
    "    '''\n",
    "r2 = pd.read_sql_query(q2, con=engine)\n",
    "fig2 = go.Figure(\n",
    "    data=[go.Bar(x=r2['state'], y=r2['number_customers'])],\n",
    "    layout_title_text=\"Análisis del número de clientes por estado.\"\n",
    ")\n",
    "fig2.show()"
   ]
  },
  {
   "cell_type": "markdown",
   "id": "e81ff9a7",
   "metadata": {},
   "source": [
    "##### Respuesta:\n",
    "\n",
    "En su mayoría los compradores se concentran en los estados de São Paulo, Río de Janeiro, y Minas Gerais. Que a su vez son los estados con mayor población en Brasil."
   ]
  },
  {
   "cell_type": "markdown",
   "id": "ac942c52",
   "metadata": {},
   "source": [
    "##### Respecto a las ventas:\n",
    "\n",
    "3. Analizando el monto de venta 💵  ¿cómo se distribuyen las mismas a través del tiempo?\n"
   ]
  },
  {
   "cell_type": "code",
   "execution_count": null,
   "id": "61235ed0",
   "metadata": {},
   "outputs": [],
   "source": [
    "q3 = (\n",
    "'''\n",
    "      SELECT \n",
    "          to_char(order_approved_at,'Mon YYYY') as date,\n",
    "          to_char(order_approved_at,'YYYYMM')::integer as date_ord,\n",
    "          SUM(b.price) as sales \n",
    "      FROM olistdb.orders as a \n",
    "      INNER JOIN olistdb.order_items as b \n",
    "      ON a.order_id = b.order_id \n",
    "      GROUP BY \n",
    "          date,\n",
    "          date_ord\n",
    "      ORDER BY \n",
    "          date_ord asc\n",
    "    ;       \n",
    "        '''\n",
    "      )\n",
    "r3 = pd.read_sql(q3, con=conn)\n",
    "fig3 = px.line(r3, x=r3['date'], y=r3['sales'], title='Evolución del monto de venta por periodo.')\n",
    "fig3.show()"
   ]
  },
  {
   "cell_type": "markdown",
   "id": "36f2b6b9",
   "metadata": {},
   "source": [
    "##### Respuesta:\n",
    "Las ventas también acompañan la tendencia creciente de ordenes de compra."
   ]
  },
  {
   "cell_type": "markdown",
   "id": "e0dfec97",
   "metadata": {},
   "source": [
    "4. ¿En qué meses calendario 🗓 el monto de venta es mayor?\n"
   ]
  },
  {
   "cell_type": "code",
   "execution_count": null,
   "id": "3120070a",
   "metadata": {},
   "outputs": [],
   "source": [
    "q4 = '''\n",
    "      SELECT \n",
    "          to_char(order_approved_at,'Mon') as date,\n",
    "          to_char(order_approved_at,'MM')::integer as date_ord,\n",
    "          SUM(b.price) as sales \n",
    "      FROM olistdb.orders as a \n",
    "      INNER JOIN olistdb.order_items as b \n",
    "      ON a.order_id = b.order_id \n",
    "      GROUP BY \n",
    "          date,\n",
    "          date_ord\n",
    "      ORDER BY \n",
    "          date_ord asc\n",
    "        ;\n",
    "    '''\n",
    "r4 = pd.read_sql_query(q4, con=engine)\n",
    "fig4 = go.Figure(\n",
    "    data=[go.Bar(x=r4['date'], y=r4['sales'])],\n",
    "    layout_title_text=\"Análisis del monto de venta por mes calendario.\"\n",
    ")\n",
    "fig4.show()"
   ]
  },
  {
   "cell_type": "markdown",
   "id": "8540c07d",
   "metadata": {},
   "source": [
    "##### Respuesta: \n",
    "Podemos ver que en los meses de marzo a agosto se producen el mayor volumen de ventas. En cambio, para los meses de septiembre a diciembre se corresponden al periodo con menor volumen de ventas."
   ]
  },
  {
   "cell_type": "markdown",
   "id": "aa054dd5",
   "metadata": {},
   "source": [
    "5. ¿Y en qué días 📆 de la semana?\n"
   ]
  },
  {
   "cell_type": "code",
   "execution_count": null,
   "id": "03a0c98a",
   "metadata": {
    "scrolled": true
   },
   "outputs": [],
   "source": [
    "q5 = '''\n",
    "      SELECT \n",
    "          to_char(order_approved_at,'Day') as date,\n",
    "          to_char(order_approved_at,'D')::integer as date_ord,\n",
    "          SUM(b.price) as sales \n",
    "      FROM olistdb.orders as a \n",
    "      INNER JOIN olistdb.order_items as b \n",
    "      ON a.order_id = b.order_id \n",
    "      GROUP BY \n",
    "          date,\n",
    "          date_ord\n",
    "      ORDER BY \n",
    "          date_ord asc\n",
    "      ;\n",
    "    '''\n",
    "r5 = pd.read_sql_query(q5, con=engine)\n",
    "fig5 = go.Figure(\n",
    "    data=[go.Bar(x=r5['date'], y=r5['sales'])],\n",
    "    layout_title_text=\"Análisis del monto de ventas por día de la semana.\"\n",
    ")\n",
    "fig5.show()"
   ]
  },
  {
   "cell_type": "markdown",
   "id": "85cf0139",
   "metadata": {},
   "source": [
    "##### Respuesta:\n",
    "El día de la semana en el que se produce el mayor volumen de ventas es el martes, luego la tendencia es decreciente hasta llegar al domingo donde se produce el menor volumen de ventas."
   ]
  },
  {
   "cell_type": "markdown",
   "id": "ec7c05be",
   "metadata": {},
   "source": [
    "6. ¿Cuáles son las 20 categorías de productos 🛒 con mayor monto de venta generado 💰?"
   ]
  },
  {
   "cell_type": "code",
   "execution_count": null,
   "id": "d716e4a3",
   "metadata": {},
   "outputs": [],
   "source": [
    "q6 = '''\n",
    "      SELECT\n",
    "          b.product_category_name AS product,\n",
    "          SUM(a.price) AS sales\n",
    "      FROM \n",
    "          olistdb.order_items AS a \n",
    "          INNER JOIN olistdb.products AS b \n",
    "          ON a.product_id = b.product_id \n",
    "      GROUP BY \n",
    "         product\n",
    "      order by\n",
    "         sales desc\n",
    "     limit 20\n",
    "    ; \n",
    "      ;\n",
    "    '''\n",
    "r6 = pd.read_sql_query(q6, con=engine)\n",
    "fig6 = go.Figure(\n",
    "    data=[go.Bar(x=r6['product'], y=r6['sales'])],\n",
    "    layout_title_text=\"Ranking de categorías de productos por monto de ventas.\"\n",
    ")\n",
    "fig6.show()"
   ]
  },
  {
   "cell_type": "markdown",
   "id": "ead0b25b",
   "metadata": {},
   "source": [
    "##### Respuesta:\n",
    "Entre las principales categorías de productos que concentran el mayor volumen de ventas podemos nombrar las relacionadas a artículos de belleza (beleza_saude), relojes y presentes (relogios_presentes), artículos de baño y habitación (cama_mesa_banho), deportes y ocio (esporte_lazer) y accesorios informáticos (informatica_acessorios)."
   ]
  },
  {
   "cell_type": "markdown",
   "id": "ec876607",
   "metadata": {},
   "source": [
    "##### Finalmente, en referencia a los pagos:\n",
    "\n",
    "7. ¿Cuáles son los medios de pagos 💳 que prefieren los compradores brasileños?"
   ]
  },
  {
   "cell_type": "code",
   "execution_count": null,
   "id": "022d1d30",
   "metadata": {},
   "outputs": [],
   "source": [
    "q7 = '''\n",
    "    SELECT \n",
    "        payment_type, \n",
    "        COUNT(*) as number_payments\n",
    "    FROM \n",
    "        olistdb.order_payments\n",
    "    GROUP BY \n",
    "        payment_type\n",
    "    ;\n",
    "    '''\n",
    "r7 = pd.read_sql_query(q7, con=engine)\n",
    "fig7 = px.pie(r7, values=r7['number_payments'], names=r7['payment_type'], title='Distribución del número de pagos por tipo.')\n",
    "fig7.show()"
   ]
  },
  {
   "cell_type": "markdown",
   "id": "0dfe5107",
   "metadata": {},
   "source": [
    "##### Respuesta:\n",
    "En su gran mayoría el comprador brasileño prefiere la tarjeta de crédito como su principal medio de pago, luego el boleto en una menor medida. "
   ]
  },
  {
   "cell_type": "code",
   "execution_count": null,
   "id": "10ffbbed",
   "metadata": {},
   "outputs": [],
   "source": [
    "# Closing connection to Olist database\n",
    "conn.close()"
   ]
  },
  {
   "cell_type": "markdown",
   "id": "2f74af6a",
   "metadata": {},
   "source": [
    "\n",
    "\n",
    "### Conclusiones generales respecto al análisis presentado\n",
    "\n",
    "    📌 Olist Store presenta una tendencia creciente de ventas.\n",
    "    📌 Los últimos 4 meses del año parecen ser los de menor performance de ventas.\n",
    "    📌 Los principales centros urbanos parecen tener una gran influencia en las ventas.\n",
    "    📌 El pago con tarjeta de crédito lidera las ventas on-line.\n",
    "\n",
    "En base a estos análisis introductorios presentados podría proponerse al departamento de marketing de Olist Store estudiar en detalle la realización de campañas de marketing encofadas a maximizar las ventas para los principales centros urbanos y categorías anteriormente nombradas, para los días martes, y con foco en promociones para tarjetas de crédito. "
   ]
  }
 ],
 "metadata": {
  "celltoolbar": "Raw Cell Format",
  "kernelspec": {
   "display_name": "Python 3 (ipykernel)",
   "language": "python",
   "name": "python3"
  },
  "language_info": {
   "codemirror_mode": {
    "name": "ipython",
    "version": 3
   },
   "file_extension": ".py",
   "mimetype": "text/x-python",
   "name": "python",
   "nbconvert_exporter": "python",
   "pygments_lexer": "ipython3",
   "version": "3.9.6"
  }
 },
 "nbformat": 4,
 "nbformat_minor": 5
}
